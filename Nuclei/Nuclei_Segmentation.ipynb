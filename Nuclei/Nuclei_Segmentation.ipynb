{
  "nbformat": 4,
  "nbformat_minor": 0,
  "metadata": {
    "colab": {
      "name": "Nuclei_Segmentation.ipynb",
      "version": "0.3.2",
      "views": {},
      "default_view": {},
      "provenance": [
        {
          "file_id": "1tRAYW0YyyQBKqyMZ3UNobOM4bokNF_mA",
          "timestamp": 1532093692049
        }
      ]
    },
    "kernelspec": {
      "name": "python3",
      "display_name": "Python 3"
    },
    "accelerator": "GPU"
  },
  "cells": [
    {
      "metadata": {
        "id": "_ijZhSkTnDA8",
        "colab_type": "code",
        "colab": {
          "autoexec": {
            "startup": false,
            "wait_interval": 0
          },
          "base_uri": "https://localhost:8080/",
          "height": 228
        },
        "outputId": "1b19c948-f0f7-4cf1-c075-16c463183c7f",
        "executionInfo": {
          "status": "ok",
          "timestamp": 1532095304322,
          "user_tz": -330,
          "elapsed": 3411,
          "user": {
            "displayName": "Iresh Mishra",
            "photoUrl": "https://lh3.googleusercontent.com/a/default-user=s128",
            "userId": "114716058918541158481"
          }
        }
      },
      "cell_type": "code",
      "source": [
        "!wget --header 'Host: storage.googleapis.com' --user-agent 'Mozilla/5.0 (X11; Ubuntu; Linux x86_64; rv:61.0) Gecko/20100101 Firefox/61.0' --header 'Accept: text/html,application/xhtml+xml,application/xml;q=0.9,*/*;q=0.8' --header 'Accept-Language: en-GB,en;q=0.5' --referer 'https://www.kaggle.com/' --header 'Upgrade-Insecure-Requests: 1' 'https://storage.googleapis.com/kaggle-competitions-data/kaggle/8089/stage1_train.zip?GoogleAccessId=web-data@kaggle-161607.iam.gserviceaccount.com&Expires=1532330989&Signature=LwttHcqlKQou1hpV0L5WY%2Fg4f4vHqpSZPlrBlZPa3dcZiefEcfXZOIIjDTFe%2BaDJ12PBBqRbPNDdV1WDsc9R%2FlD6xaCH5NuKJ2Np%2BBAPcvKbA8HyQcxXr9uPcs25F7iB3kx2B%2BKtvSlqS5fCUkR8XAQYzbXADTxW2u0U%2Ba4YzX%2Bujk4K3ifHHL98tLVhVm1p0OuYdAudvV6PIOhuNgxG%2FdcFIDKQnPAWdblt9IuzO%2Fy009NdRRrNnTA3MfwMCop%2Fb3OAHCNQA9uQyb3j0nnuofmt6Xwb4T%2FDpwTcNfOePdsCyFAs2ZyAmw11bA%2F7DNtpZgAjrN1%2FSezp1J6Ouz7nBQ%3D%3D' --output-document 'stage1_train.zip'"
      ],
      "execution_count": 4,
      "outputs": [
        {
          "output_type": "stream",
          "text": [
            "--2018-07-20 14:01:41--  https://storage.googleapis.com/kaggle-competitions-data/kaggle/8089/stage1_train.zip?GoogleAccessId=web-data@kaggle-161607.iam.gserviceaccount.com&Expires=1532330989&Signature=LwttHcqlKQou1hpV0L5WY%2Fg4f4vHqpSZPlrBlZPa3dcZiefEcfXZOIIjDTFe%2BaDJ12PBBqRbPNDdV1WDsc9R%2FlD6xaCH5NuKJ2Np%2BBAPcvKbA8HyQcxXr9uPcs25F7iB3kx2B%2BKtvSlqS5fCUkR8XAQYzbXADTxW2u0U%2Ba4YzX%2Bujk4K3ifHHL98tLVhVm1p0OuYdAudvV6PIOhuNgxG%2FdcFIDKQnPAWdblt9IuzO%2Fy009NdRRrNnTA3MfwMCop%2Fb3OAHCNQA9uQyb3j0nnuofmt6Xwb4T%2FDpwTcNfOePdsCyFAs2ZyAmw11bA%2F7DNtpZgAjrN1%2FSezp1J6Ouz7nBQ%3D%3D\r\n",
            "Resolving storage.googleapis.com (storage.googleapis.com)... 66.102.1.128, 2a00:1450:400c:c06::80\r\n",
            "Connecting to storage.googleapis.com (storage.googleapis.com)|66.102.1.128|:443... connected.\n",
            "HTTP request sent, awaiting response... 200 OK\n",
            "Length: 82923446 (79M) [application/zip]\n",
            "Saving to: ‘stage1_train.zip’\n",
            "\n",
            "stage1_train.zip    100%[===================>]  79.08M  70.6MB/s    in 1.1s    \n",
            "\n",
            "2018-07-20 14:01:42 (70.6 MB/s) - ‘stage1_train.zip’ saved [82923446/82923446]\n",
            "\n"
          ],
          "name": "stdout"
        }
      ]
    },
    {
      "metadata": {
        "id": "h81S3FG0ndNV",
        "colab_type": "code",
        "colab": {
          "autoexec": {
            "startup": false,
            "wait_interval": 0
          },
          "base_uri": "https://localhost:8080/",
          "height": 69
        },
        "outputId": "5888051f-b8c7-43b8-f562-6ff26db60540",
        "executionInfo": {
          "status": "ok",
          "timestamp": 1532095307424,
          "user_tz": -330,
          "elapsed": 2942,
          "user": {
            "displayName": "Iresh Mishra",
            "photoUrl": "https://lh3.googleusercontent.com/a/default-user=s128",
            "userId": "114716058918541158481"
          }
        }
      },
      "cell_type": "code",
      "source": [
        "!curl 'https://storage.googleapis.com/kaggle-competitions-data/kaggle/8089/stage1_test.zip?GoogleAccessId=web-data@kaggle-161607.iam.gserviceaccount.com&Expires=1532331713&Signature=lte0%2FdAZhUlmOY28ahtPFRHJvgOApJ4d642D2tqgFqMrnlzRO6IMvxOZPf6Mm3oneoikSJ2tWQ8EY1Dw5oktRpn0YOWqfsAgfjhItSrXwed5%2FqYoY%2BgXUY0l96rOzbBw%2FRHB%2BhlrtXt%2BEdIyEzjTAgWMF46nbeX4q3iVSB6Ykzd3xofuJkvY5Ymoh%2B1KePKIXp%2Bnjomm2A%2BdZg5EQWaGWeoORYOIFZVsqOrP6qQ5kQUqB05ptrhaPa0ZKvQb%2F%2BDMSrRGDEXuMsjfh9dgt12dNd%2BS9P2a7uG3biWyphd6pfyol9Y%2FepCqVNQeuYIsALJ88gbdKukkfFhDDQoV8FHWcQ%3D%3D' -H 'User-Agent: Mozilla/5.0 (X11; Ubuntu; Linux x86_64; rv:61.0) Gecko/20100101 Firefox/61.0' -H 'Accept: text/html,application/xhtml+xml,application/xml;q=0.9,*/*;q=0.8' -H 'Accept-Language: en-GB,en;q=0.5' --compressed -H 'Referer: https://www.kaggle.com/' -H 'Connection: keep-alive' -H 'Upgrade-Insecure-Requests: 1' -o stage1_test.zip"
      ],
      "execution_count": 5,
      "outputs": [
        {
          "output_type": "stream",
          "text": [
            "  % Total    % Received % Xferd  Average Speed   Time    Time     Time  Current\r\n",
            "                                 Dload  Upload   Total   Spent    Left  Speed\n",
            "100 9321k  100 9321k    0     0  9321k      0  0:00:01 --:--:--  0:00:01 12.9M\n"
          ],
          "name": "stdout"
        }
      ]
    },
    {
      "metadata": {
        "id": "awYWQT4bpkgm",
        "colab_type": "code",
        "colab": {
          "autoexec": {
            "startup": false,
            "wait_interval": 0
          },
          "base_uri": "https://localhost:8080/",
          "height": 34
        },
        "outputId": "94e783f3-9435-4fea-b05a-bff5cd54810b",
        "executionInfo": {
          "status": "ok",
          "timestamp": 1532095310780,
          "user_tz": -330,
          "elapsed": 2130,
          "user": {
            "displayName": "Iresh Mishra",
            "photoUrl": "https://lh3.googleusercontent.com/a/default-user=s128",
            "userId": "114716058918541158481"
          }
        }
      },
      "cell_type": "code",
      "source": [
        "!ls"
      ],
      "execution_count": 6,
      "outputs": [
        {
          "output_type": "stream",
          "text": [
            "datalab  stage1_test.zip  stage1_train.zip\r\n"
          ],
          "name": "stdout"
        }
      ]
    },
    {
      "metadata": {
        "id": "5MP-8aL1pnQY",
        "colab_type": "code",
        "colab": {
          "autoexec": {
            "startup": false,
            "wait_interval": 0
          }
        }
      },
      "cell_type": "code",
      "source": [
        "!mkdir stage1_train stage1_test\n",
        "\n",
        "!unzip stage1_train.zip -d stage1_train/\n",
        "!unzip stage1_test.zip -d stage1_test/"
      ],
      "execution_count": 0,
      "outputs": []
    },
    {
      "metadata": {
        "id": "tDmHwMB4puj8",
        "colab_type": "code",
        "colab": {
          "autoexec": {
            "startup": false,
            "wait_interval": 0
          }
        }
      },
      "cell_type": "code",
      "source": [
        "import os\n",
        "import random\n",
        "import sys\n",
        "import warnings\n",
        "import numpy as np\n",
        "import pandas as pd\n",
        "from itertools import chain\n",
        "from skimage.io import imread, imshow, imread_collection, concatenate_images\n",
        "from skimage.transform import resize\n",
        "from skimage.morphology import label\n",
        "from keras.utils import Progbar\n",
        "\n",
        "from keras.models import Model, load_model\n",
        "from keras.layers import Input\n",
        "from keras.layers.core import Dropout, Lambda\n",
        "from keras.layers.convolutional import Conv2D, Conv2DTranspose,Convolution2D\n",
        "from keras.layers.pooling import MaxPooling2D\n",
        "from keras.layers.merge import concatenate\n",
        "from keras import backend as K"
      ],
      "execution_count": 0,
      "outputs": []
    },
    {
      "metadata": {
        "id": "SASSNsKaYOzC",
        "colab_type": "code",
        "colab": {
          "autoexec": {
            "startup": false,
            "wait_interval": 0
          }
        }
      },
      "cell_type": "code",
      "source": [
        "smooth = 1.\n",
        "epochs = 20\n"
      ],
      "execution_count": 0,
      "outputs": []
    },
    {
      "metadata": {
        "id": "IWcgyeF7_r0q",
        "colab_type": "code",
        "colab": {
          "autoexec": {
            "startup": false,
            "wait_interval": 0
          },
          "base_uri": "https://localhost:8080/",
          "height": 34
        },
        "outputId": "3ac042ce-b041-463b-d3d6-7100bf1df33b",
        "executionInfo": {
          "status": "ok",
          "timestamp": 1532095336586,
          "user_tz": -330,
          "elapsed": 2309,
          "user": {
            "displayName": "Iresh Mishra",
            "photoUrl": "https://lh3.googleusercontent.com/a/default-user=s128",
            "userId": "114716058918541158481"
          }
        }
      },
      "cell_type": "code",
      "source": [
        "!ls"
      ],
      "execution_count": 10,
      "outputs": [
        {
          "output_type": "stream",
          "text": [
            "datalab  stage1_test  stage1_test.zip  stage1_train  stage1_train.zip\r\n"
          ],
          "name": "stdout"
        }
      ]
    },
    {
      "metadata": {
        "id": "v8kUE2x4qFrB",
        "colab_type": "code",
        "colab": {
          "autoexec": {
            "startup": false,
            "wait_interval": 0
          }
        }
      },
      "cell_type": "code",
      "source": [
        "TRAIN_PATH = 'stage1_train/'\n",
        "TEST_PATH = 'stage1_test/'\n"
      ],
      "execution_count": 0,
      "outputs": []
    },
    {
      "metadata": {
        "id": "8DYUDcRWqO_T",
        "colab_type": "code",
        "colab": {
          "autoexec": {
            "startup": false,
            "wait_interval": 0
          }
        }
      },
      "cell_type": "code",
      "source": [
        "train_ids = next(os.walk(TRAIN_PATH))[1]\n",
        "test_ids = next(os.walk(TEST_PATH))[1]\n"
      ],
      "execution_count": 0,
      "outputs": []
    },
    {
      "metadata": {
        "id": "hGTO3ERTrrjj",
        "colab_type": "code",
        "colab": {
          "autoexec": {
            "startup": false,
            "wait_interval": 0
          }
        }
      },
      "cell_type": "code",
      "source": [
        ""
      ],
      "execution_count": 0,
      "outputs": []
    },
    {
      "metadata": {
        "id": "S5rvfunJrrsi",
        "colab_type": "code",
        "colab": {
          "autoexec": {
            "startup": false,
            "wait_interval": 0
          }
        }
      },
      "cell_type": "code",
      "source": [
        "def read_train_data(IMG_WIDTH=256,IMG_HEIGHT=256,IMG_CHANNELS=3):\n",
        "    X_train = np.zeros((len(train_ids), IMG_HEIGHT, IMG_WIDTH, IMG_CHANNELS), dtype=np.uint8)\n",
        "    Y_train = np.zeros((len(train_ids), IMG_HEIGHT, IMG_WIDTH, 1), dtype=np.bool)\n",
        "    print('Getting and resizing train images and masks ... ')\n",
        "    sys.stdout.flush()\n",
        "    if os.path.isfile(\"train_img.npy\") and os.path.isfile(\"train_mask.npy\"):\n",
        "        print(\"Train file loaded from memory\")\n",
        "        X_train = np.load(\"train_img.npy\")\n",
        "        Y_train = np.load(\"train_mask.npy\")\n",
        "        return X_train,Y_train\n",
        "    a = Progbar(len(train_ids))\n",
        "    for n, id_ in enumerate(train_ids):\n",
        "        path = TRAIN_PATH + id_\n",
        "        img = imread(path + '/images/' + id_ + '.png')[:,:,:IMG_CHANNELS]\n",
        "        img = resize(img, (IMG_HEIGHT, IMG_WIDTH), mode='constant', preserve_range=True)\n",
        "        X_train[n] = img\n",
        "        mask = np.zeros((IMG_HEIGHT, IMG_WIDTH, 1), dtype=np.bool)\n",
        "        for mask_file in next(os.walk(path + '/masks/'))[2]:\n",
        "            mask_ = imread(path + '/masks/' + mask_file)\n",
        "            mask_ = np.expand_dims(resize(mask_, (IMG_HEIGHT, IMG_WIDTH), mode='constant', \n",
        "                                        preserve_range=True), axis=-1)\n",
        "            mask = np.maximum(mask, mask_)\n",
        "        Y_train[n] = mask\n",
        "        a.update(n)\n",
        "    np.save(\"train_img\",X_train)\n",
        "    np.save(\"train_mask\",Y_train)\n",
        "    return X_train,Y_train"
      ],
      "execution_count": 0,
      "outputs": []
    },
    {
      "metadata": {
        "id": "1xZ8_4Xfrrnt",
        "colab_type": "code",
        "colab": {
          "autoexec": {
            "startup": false,
            "wait_interval": 0
          }
        }
      },
      "cell_type": "code",
      "source": [
        "def read_test_data(IMG_WIDTH=256,IMG_HEIGHT=256,IMG_CHANNELS=3):\n",
        "    X_test = np.zeros((len(test_ids), IMG_HEIGHT, IMG_WIDTH, IMG_CHANNELS), dtype=np.uint8)\n",
        "    sizes_test = []\n",
        "    print('\\nGetting and resizing test images ... ')\n",
        "    sys.stdout.flush()\n",
        "    if os.path.isfile(\"test_img.npy\") and os.path.isfile(\"test_size.npy\"):\n",
        "        print(\"Test file loaded from memory\")\n",
        "        X_test = np.load(\"test_img.npy\")\n",
        "        sizes_test = np.load(\"test_size.npy\")\n",
        "        return X_test,sizes_test\n",
        "    b = Progbar(len(test_ids))\n",
        "    for n, id_ in enumerate(test_ids):\n",
        "        path = TEST_PATH + id_\n",
        "        img = imread(path + '/images/' + id_ + '.png')[:,:,:IMG_CHANNELS]\n",
        "        sizes_test.append([img.shape[0], img.shape[1]])\n",
        "        img = resize(img, (IMG_HEIGHT, IMG_WIDTH), mode='constant', preserve_range=True)\n",
        "        X_test[n] = img\n",
        "        b.update(n)\n",
        "    np.save(\"test_img\",X_test)\n",
        "    np.save(\"test_size\",sizes_test)\n",
        "    return X_test,sizes_test\n"
      ],
      "execution_count": 0,
      "outputs": []
    },
    {
      "metadata": {
        "id": "e6yPUeQkrrhG",
        "colab_type": "code",
        "colab": {
          "autoexec": {
            "startup": false,
            "wait_interval": 0
          }
        }
      },
      "cell_type": "code",
      "source": [
        "def rle_encoding(x):\n",
        "    dots = np.where(x.T.flatten() == 1)[0]\n",
        "    run_lengths = []\n",
        "    prev = -2\n",
        "    for b in dots:\n",
        "        if (b>prev+1): run_lengths.extend((b + 1, 0))\n",
        "        run_lengths[-1] += 1\n",
        "        prev = b\n",
        "    return run_lengths\n",
        "\n",
        "def prob_to_rles(x, cutoff=0.5):\n",
        "    lab_img = label(x > cutoff)\n",
        "    for i in range(1, lab_img.max() + 1):\n",
        "        yield rle_encoding(lab_img == i)\n"
      ],
      "execution_count": 0,
      "outputs": []
    },
    {
      "metadata": {
        "id": "5L_zblqPrre-",
        "colab_type": "code",
        "colab": {
          "autoexec": {
            "startup": false,
            "wait_interval": 0
          }
        }
      },
      "cell_type": "code",
      "source": [
        "def mask_to_rle(preds_test_upsampled):\n",
        "    new_test_ids = []\n",
        "    rles = []\n",
        "    for n, id_ in enumerate(test_ids):\n",
        "        rle = list(prob_to_rles(preds_test_upsampled[n]))\n",
        "        rles.extend(rle)\n",
        "        new_test_ids.extend([id_] * len(rle))\n",
        "    return new_test_ids,rles"
      ],
      "execution_count": 0,
      "outputs": []
    },
    {
      "metadata": {
        "id": "xAyiuXqgrrcM",
        "colab_type": "code",
        "colab": {
          "autoexec": {
            "startup": false,
            "wait_interval": 0
          }
        }
      },
      "cell_type": "code",
      "source": [
        "def dice_coef(y_true, y_pred):\n",
        "    y_true_f = K.flatten(y_true)\n",
        "    y_pred_f = K.flatten(y_pred)\n",
        "    intersection = K.sum(y_true_f * y_pred_f)\n",
        "    return (2. * intersection + smooth) / (K.sum(y_true_f) + K.sum(y_pred_f) + smooth)\n",
        "\n",
        "\n",
        "def dice_coef_loss(y_true, y_pred):\n",
        "    return -dice_coef(y_true, y_pred)\n"
      ],
      "execution_count": 0,
      "outputs": []
    },
    {
      "metadata": {
        "id": "Hb08H5wLrrYS",
        "colab_type": "code",
        "colab": {
          "autoexec": {
            "startup": false,
            "wait_interval": 0
          }
        }
      },
      "cell_type": "code",
      "source": [
        "def get_unet(IMG_WIDTH=256,IMG_HEIGHT=256,IMG_CHANNELS=3):\n",
        "    inputs = Input((IMG_HEIGHT, IMG_WIDTH, IMG_CHANNELS))\n",
        "    s = Lambda(lambda x: x / 255) (inputs)\n",
        "    c1 = Conv2D(16, (3, 3), activation= 'elu', kernel_initializer='he_normal', padding='same') (s)\n",
        "    c1 = Dropout(0.1) (c1)\n",
        "    c1 = Conv2D(16, (3, 3), activation='elu', kernel_initializer='he_normal', padding='same') (c1)\n",
        "    p1 = MaxPooling2D((2, 2)) (c1)\n",
        "    c2 = Conv2D(32, (3, 3), activation='elu', kernel_initializer='he_normal', padding='same') (p1)\n",
        "    c2 = Dropout(0.1) (c2)\n",
        "    c2 = Conv2D(32, (3, 3), activation='elu', kernel_initializer='he_normal', padding='same') (c2)\n",
        "    p2 = MaxPooling2D((2, 2)) (c2)\n",
        "\n",
        "    c3 = Conv2D(64, (3, 3), activation='elu', kernel_initializer='he_normal', padding='same') (p2)\n",
        "    c3 = Dropout(0.2) (c3)\n",
        "    c3 = Conv2D(64, (3, 3), activation='elu', kernel_initializer='he_normal', padding='same') (c3)\n",
        "    p3 = MaxPooling2D((2, 2)) (c3)\n",
        "\n",
        "    c4 = Conv2D(128, (3, 3), activation='elu', kernel_initializer='he_normal', padding='same') (p3)\n",
        "    c4 = Dropout(0.2) (c4)\n",
        "    c4 = Conv2D(128, (3, 3), activation='elu', kernel_initializer='he_normal', padding='same') (c4)\n",
        "    p4 = MaxPooling2D(pool_size=(2, 2)) (c4)\n",
        "\n",
        "    c5 = Conv2D(256, (3, 3), activation='elu', kernel_initializer='he_normal', padding='same') (p4)\n",
        "    c5 = Dropout(0.3) (c5)\n",
        "    c5 = Conv2D(256, (3, 3), activation='elu', kernel_initializer='he_normal', padding='same') (c5)\n",
        "\n",
        "    u6 = Conv2DTranspose(128, (2, 2), strides=(2, 2), padding='same') (c5)\n",
        "    u6 = concatenate([u6, c4])\n",
        "    c6 = Conv2D(128, (3, 3), activation='elu', kernel_initializer='he_normal', padding='same') (u6)\n",
        "    c6 = Dropout(0.2) (c6)\n",
        "    c6 = Conv2D(128, (3, 3), activation='elu', kernel_initializer='he_normal', padding='same') (c6)\n",
        "\n",
        "    u7 = Conv2DTranspose(64, (2, 2), strides=(2, 2), padding='same') (c6)\n",
        "    u7 = concatenate([u7, c3])\n",
        "    c7 = Conv2D(64, (3, 3), activation='elu', kernel_initializer='he_normal', padding='same') (u7)\n",
        "    c7 = Dropout(0.2) (c7)\n",
        "    c7 = Conv2D(64, (3, 3), activation='elu', kernel_initializer='he_normal', padding='same') (c7)\n",
        "\n",
        "    u8 = Conv2DTranspose(32, (2, 2), strides=(2, 2), padding='same') (c7)\n",
        "    u8 = concatenate([u8, c2])\n",
        "    c8 = Conv2D(32, (3, 3), activation='elu', kernel_initializer='he_normal', padding='same') (u8)\n",
        "    c8 = Dropout(0.1) (c8)\n",
        "    c8 = Conv2D(32, (3, 3), activation='elu', kernel_initializer='he_normal', padding='same') (c8)\n",
        "\n",
        "    u9 = Conv2DTranspose(16, (2, 2), strides=(2, 2), padding='same') (c8)\n",
        "    u9 = concatenate([u9, c1], axis=3)\n",
        "    c9 = Conv2D(16, (3, 3), activation='elu', kernel_initializer='he_normal', padding='same') (u9)\n",
        "    c9 = Dropout(0.1) (c9)\n",
        "    c9 = Conv2D(16, (3, 3), activation='elu', kernel_initializer='he_normal', padding='same') (c9)\n",
        "\n",
        "    outputs = Conv2D(1, (1, 1), activation='sigmoid') (c9)\n",
        "\n",
        "    model = Model(inputs=[inputs], outputs=[outputs])\n",
        "    model.compile(optimizer='adam',loss='binary_crossentropy', metrics=[dice_coef])\n",
        "    return model"
      ],
      "execution_count": 0,
      "outputs": []
    },
    {
      "metadata": {
        "id": "7PHgtOdF0SeQ",
        "colab_type": "code",
        "colab": {
          "autoexec": {
            "startup": false,
            "wait_interval": 0
          },
          "base_uri": "https://localhost:8080/",
          "height": 54
        },
        "outputId": "15f66963-4966-4ffa-bc01-1e398ce2b38e",
        "executionInfo": {
          "status": "ok",
          "timestamp": 1532095608676,
          "user_tz": -330,
          "elapsed": 1163,
          "user": {
            "displayName": "Iresh Mishra",
            "photoUrl": "https://lh3.googleusercontent.com/a/default-user=s128",
            "userId": "114716058918541158481"
          }
        }
      },
      "cell_type": "code",
      "source": [
        "\"\"\"inputs = Input((IMG_HEIGHT, IMG_WIDTH, IMG_CHANNELS))\n",
        "s = Lambda(lambda x: x / 255) (inputs)\n",
        "\n",
        "c1 = Conv2D(8, (3, 3), activation='relu', padding='same') (s)\n",
        "c1 = Conv2D(8, (3, 3), activation='relu', padding='same') (c1)\n",
        "p1 = MaxPooling2D((2, 2)) (c1)\n",
        "\n",
        "c2 = Conv2D(16, (3, 3), activation='relu', padding='same') (p1)\n",
        "c2 = Conv2D(16, (3, 3), activation='relu', padding='same') (c2)\n",
        "p2 = MaxPooling2D((2, 2)) (c2)\n",
        "\n",
        "c3 = Conv2D(32, (3, 3), activation='relu', padding='same') (p2)\n",
        "c3 = Conv2D(32, (3, 3), activation='relu', padding='same') (c3)\n",
        "p3 = MaxPooling2D((2, 2)) (c3)\n",
        "\n",
        "c4 = Conv2D(64, (3, 3), activation='relu', padding='same') (p3)\n",
        "c4 = Conv2D(64, (3, 3), activation='relu', padding='same') (c4)\n",
        "p4 = MaxPooling2D(pool_size=(2, 2)) (c4)\n",
        "\n",
        "c5 = Conv2D(128, (3, 3), activation='relu', padding='same') (p4)\n",
        "c5 = Conv2D(128, (3, 3), activation='relu', padding='same') (c5)\n",
        "\n",
        "u6 = Conv2DTranspose(64, (2, 2), strides=(2, 2), padding='same') (c5)\n",
        "u6 = concatenate([u6, c4])\n",
        "c6 = Conv2D(64, (3, 3), activation='relu', padding='same') (u6)\n",
        "c6 = Conv2D(64, (3, 3), activation='relu', padding='same') (c6)\n",
        "\n",
        "u7 = Conv2DTranspose(32, (2, 2), strides=(2, 2), padding='same') (c6)\n",
        "u7 = concatenate([u7, c3])\n",
        "c7 = Conv2D(32, (3, 3), activation='relu', padding='same') (u7)\n",
        "c7 = Conv2D(32, (3, 3), activation='relu', padding='same') (c7)\n",
        "\n",
        "u8 = Conv2DTranspose(16, (2, 2), strides=(2, 2), padding='same') (c7)\n",
        "u8 = concatenate([u8, c2])\n",
        "c8 = Conv2D(16, (3, 3), activation='relu', padding='same') (u8)\n",
        "c8 = Conv2D(16, (3, 3), activation='relu', padding='same') (c8)\n",
        "\n",
        "u9 = Conv2DTranspose(8, (2, 2), strides=(2, 2), padding='same') (c8)\n",
        "u9 = concatenate([u9, c1], axis=3)\n",
        "c9 = Conv2D(8, (3, 3), activation='relu', padding='same') (u9)\n",
        "c9 = Conv2D(8, (3, 3), activation='relu', padding='same') (c9)\n",
        "\n",
        "outputs = Conv2D(1, (1, 1), activation='sigmoid') (c9)\n",
        "\n",
        "model = Model(inputs=[inputs], outputs=[outputs])\n",
        "model.compile(optimizer='adam', loss='binary_crossentropy', metrics=[mean_iou])\n",
        "model.summary()\n",
        "\"\"\""
      ],
      "execution_count": 24,
      "outputs": [
        {
          "output_type": "execute_result",
          "data": {
            "text/plain": [
              "\"inputs = Input((IMG_HEIGHT, IMG_WIDTH, IMG_CHANNELS))\\ns = Lambda(lambda x: x / 255) (inputs)\\n\\nc1 = Conv2D(8, (3, 3), activation='relu', padding='same') (s)\\nc1 = Conv2D(8, (3, 3), activation='relu', padding='same') (c1)\\np1 = MaxPooling2D((2, 2)) (c1)\\n\\nc2 = Conv2D(16, (3, 3), activation='relu', padding='same') (p1)\\nc2 = Conv2D(16, (3, 3), activation='relu', padding='same') (c2)\\np2 = MaxPooling2D((2, 2)) (c2)\\n\\nc3 = Conv2D(32, (3, 3), activation='relu', padding='same') (p2)\\nc3 = Conv2D(32, (3, 3), activation='relu', padding='same') (c3)\\np3 = MaxPooling2D((2, 2)) (c3)\\n\\nc4 = Conv2D(64, (3, 3), activation='relu', padding='same') (p3)\\nc4 = Conv2D(64, (3, 3), activation='relu', padding='same') (c4)\\np4 = MaxPooling2D(pool_size=(2, 2)) (c4)\\n\\nc5 = Conv2D(128, (3, 3), activation='relu', padding='same') (p4)\\nc5 = Conv2D(128, (3, 3), activation='relu', padding='same') (c5)\\n\\nu6 = Conv2DTranspose(64, (2, 2), strides=(2, 2), padding='same') (c5)\\nu6 = concatenate([u6, c4])\\nc6 = Conv2D(64, (3, 3), activation='relu', padding='same') (u6)\\nc6 = Conv2D(64, (3, 3), activation='relu', padding='same') (c6)\\n\\nu7 = Conv2DTranspose(32, (2, 2), strides=(2, 2), padding='same') (c6)\\nu7 = concatenate([u7, c3])\\nc7 = Conv2D(32, (3, 3), activation='relu', padding='same') (u7)\\nc7 = Conv2D(32, (3, 3), activation='relu', padding='same') (c7)\\n\\nu8 = Conv2DTranspose(16, (2, 2), strides=(2, 2), padding='same') (c7)\\nu8 = concatenate([u8, c2])\\nc8 = Conv2D(16, (3, 3), activation='relu', padding='same') (u8)\\nc8 = Conv2D(16, (3, 3), activation='relu', padding='same') (c8)\\n\\nu9 = Conv2DTranspose(8, (2, 2), strides=(2, 2), padding='same') (c8)\\nu9 = concatenate([u9, c1], axis=3)\\nc9 = Conv2D(8, (3, 3), activation='relu', padding='same') (u9)\\nc9 = Conv2D(8, (3, 3), activation='relu', padding='same') (c9)\\n\\noutputs = Conv2D(1, (1, 1), activation='sigmoid') (c9)\\n\\nmodel = Model(inputs=[inputs], outputs=[outputs])\\nmodel.compile(optimizer='adam', loss='binary_crossentropy', metrics=[mean_iou])\\nmodel.summary()\\n\""
            ]
          },
          "metadata": {
            "tags": []
          },
          "execution_count": 24
        }
      ]
    },
    {
      "metadata": {
        "id": "oJuvffoa0Sjb",
        "colab_type": "code",
        "colab": {
          "autoexec": {
            "startup": false,
            "wait_interval": 0
          }
        }
      },
      "cell_type": "code",
      "source": [
        ""
      ],
      "execution_count": 0,
      "outputs": []
    },
    {
      "metadata": {
        "id": "qpHlR0Mc0St0",
        "colab_type": "code",
        "colab": {
          "autoexec": {
            "startup": false,
            "wait_interval": 0
          },
          "base_uri": "https://localhost:8080/",
          "height": 86
        },
        "outputId": "af7269c8-4fcf-450c-9d73-84bc6cdee984",
        "executionInfo": {
          "status": "ok",
          "timestamp": 1532095862871,
          "user_tz": -330,
          "elapsed": 176791,
          "user": {
            "displayName": "Iresh Mishra",
            "photoUrl": "https://lh3.googleusercontent.com/a/default-user=s128",
            "userId": "114716058918541158481"
          }
        }
      },
      "cell_type": "code",
      "source": [
        "train_img,train_mask = read_train_data()\n",
        "\n",
        "test_img,test_img_sizes = read_test_data()"
      ],
      "execution_count": 25,
      "outputs": [
        {
          "output_type": "stream",
          "text": [
            "Getting and resizing train images and masks ... \n",
            "669/670 [============================>.] - ETA: 0s\n",
            "Getting and resizing test images ... \n",
            "63/65 [============================>.] - ETA: 0s"
          ],
          "name": "stdout"
        }
      ]
    },
    {
      "metadata": {
        "id": "IUVVvQDgr9b6",
        "colab_type": "code",
        "colab": {
          "autoexec": {
            "startup": false,
            "wait_interval": 0
          }
        }
      },
      "cell_type": "code",
      "source": [
        "u_net = get_unet()"
      ],
      "execution_count": 0,
      "outputs": []
    },
    {
      "metadata": {
        "id": "f4LgjvfD1272",
        "colab_type": "code",
        "colab": {
          "autoexec": {
            "startup": false,
            "wait_interval": 0
          },
          "base_uri": "https://localhost:8080/",
          "height": 784
        },
        "outputId": "b747bdbf-267f-4b61-c82c-3e11fad75a63",
        "executionInfo": {
          "status": "ok",
          "timestamp": 1532096195396,
          "user_tz": -330,
          "elapsed": 321540,
          "user": {
            "displayName": "Iresh Mishra",
            "photoUrl": "https://lh3.googleusercontent.com/a/default-user=s128",
            "userId": "114716058918541158481"
          }
        }
      },
      "cell_type": "code",
      "source": [
        "print(\"\\nTraining...\")\n",
        "u_net.fit(train_img,train_mask,batch_size=16,epochs=epochs)"
      ],
      "execution_count": 27,
      "outputs": [
        {
          "output_type": "stream",
          "text": [
            "\n",
            "Training...\n",
            "Epoch 1/20\n",
            "670/670 [==============================] - 22s 33ms/step - loss: 0.3739 - dice_coef: 0.2933\n",
            "Epoch 2/20\n",
            "670/670 [==============================] - 16s 23ms/step - loss: 0.1832 - dice_coef: 0.6305\n",
            "Epoch 3/20\n",
            "670/670 [==============================] - 16s 23ms/step - loss: 0.1349 - dice_coef: 0.7426\n",
            "Epoch 4/20\n",
            "670/670 [==============================] - 16s 23ms/step - loss: 0.1170 - dice_coef: 0.7810\n",
            "Epoch 5/20\n",
            "670/670 [==============================] - 16s 23ms/step - loss: 0.1034 - dice_coef: 0.8066\n",
            "Epoch 6/20\n",
            "670/670 [==============================] - 16s 23ms/step - loss: 0.0949 - dice_coef: 0.8215\n",
            "Epoch 7/20\n",
            "112/670 [====>.........................] - ETA: 12s - loss: 0.1175 - dice_coef: 0.7666"
          ],
          "name": "stdout"
        },
        {
          "output_type": "stream",
          "text": [
            "670/670 [==============================] - 16s 23ms/step - loss: 0.1058 - dice_coef: 0.8006\n",
            "Epoch 8/20\n",
            "670/670 [==============================] - 16s 23ms/step - loss: 0.0911 - dice_coef: 0.8303\n",
            "Epoch 9/20\n",
            "670/670 [==============================] - 16s 23ms/step - loss: 0.0838 - dice_coef: 0.8414\n",
            "Epoch 10/20\n",
            "670/670 [==============================] - 16s 23ms/step - loss: 0.0810 - dice_coef: 0.8504\n",
            "Epoch 11/20\n",
            "670/670 [==============================] - 16s 23ms/step - loss: 0.0811 - dice_coef: 0.8472\n",
            "Epoch 12/20\n",
            "670/670 [==============================] - 16s 23ms/step - loss: 0.0778 - dice_coef: 0.8516\n",
            "Epoch 13/20\n",
            "256/670 [==========>...................] - ETA: 9s - loss: 0.0771 - dice_coef: 0.8487 "
          ],
          "name": "stdout"
        },
        {
          "output_type": "stream",
          "text": [
            "670/670 [==============================] - 16s 23ms/step - loss: 0.0766 - dice_coef: 0.8571\n",
            "Epoch 14/20\n",
            "670/670 [==============================] - 16s 23ms/step - loss: 0.0766 - dice_coef: 0.8524\n",
            "Epoch 15/20\n",
            "670/670 [==============================] - 16s 23ms/step - loss: 0.0750 - dice_coef: 0.8594\n",
            "Epoch 16/20\n",
            "670/670 [==============================] - 16s 23ms/step - loss: 0.0732 - dice_coef: 0.8590\n",
            "Epoch 17/20\n",
            "670/670 [==============================] - 16s 23ms/step - loss: 0.0734 - dice_coef: 0.8602\n",
            "Epoch 18/20\n",
            "670/670 [==============================] - 16s 23ms/step - loss: 0.0726 - dice_coef: 0.8622\n",
            "Epoch 19/20\n",
            "256/670 [==========>...................] - ETA: 9s - loss: 0.0735 - dice_coef: 0.8663"
          ],
          "name": "stdout"
        },
        {
          "output_type": "stream",
          "text": [
            "670/670 [==============================] - 16s 23ms/step - loss: 0.0714 - dice_coef: 0.8637\n",
            "Epoch 20/20\n",
            "670/670 [==============================] - 16s 23ms/step - loss: 0.0701 - dice_coef: 0.8643\n"
          ],
          "name": "stdout"
        },
        {
          "output_type": "execute_result",
          "data": {
            "text/plain": [
              "<keras.callbacks.History at 0x7f947179e3c8>"
            ]
          },
          "metadata": {
            "tags": []
          },
          "execution_count": 27
        }
      ]
    },
    {
      "metadata": {
        "id": "sBcaiWZ0DZem",
        "colab_type": "code",
        "colab": {
          "autoexec": {
            "startup": false,
            "wait_interval": 0
          }
        }
      },
      "cell_type": "code",
      "source": [
        "epochs=30"
      ],
      "execution_count": 0,
      "outputs": []
    },
    {
      "metadata": {
        "id": "KrB6GhT8Dc6b",
        "colab_type": "code",
        "colab": {
          "autoexec": {
            "startup": false,
            "wait_interval": 0
          },
          "base_uri": "https://localhost:8080/",
          "height": 1131
        },
        "outputId": "217a04c9-a664-4f56-f624-5459d6dc4278",
        "executionInfo": {
          "status": "ok",
          "timestamp": 1532096759518,
          "user_tz": -330,
          "elapsed": 468932,
          "user": {
            "displayName": "Iresh Mishra",
            "photoUrl": "https://lh3.googleusercontent.com/a/default-user=s128",
            "userId": "114716058918541158481"
          }
        }
      },
      "cell_type": "code",
      "source": [
        "print(\"\\nTraining...\")\n",
        "u_net.fit(train_img,train_mask,batch_size=16,epochs=epochs)"
      ],
      "execution_count": 29,
      "outputs": [
        {
          "output_type": "stream",
          "text": [
            "\n",
            "Training...\n",
            "Epoch 1/30\n",
            "670/670 [==============================] - 16s 23ms/step - loss: 0.0705 - dice_coef: 0.8652\n",
            "Epoch 2/30\n",
            "670/670 [==============================] - 16s 23ms/step - loss: 0.0704 - dice_coef: 0.8621\n",
            "Epoch 3/30\n",
            "670/670 [==============================] - 16s 23ms/step - loss: 0.0700 - dice_coef: 0.8664\n",
            "Epoch 4/30\n",
            "670/670 [==============================] - 16s 23ms/step - loss: 0.0687 - dice_coef: 0.8669\n",
            "Epoch 5/30\n",
            "670/670 [==============================] - 16s 23ms/step - loss: 0.0687 - dice_coef: 0.8668\n",
            "Epoch 6/30\n",
            "670/670 [==============================] - 16s 23ms/step - loss: 0.0726 - dice_coef: 0.8599\n",
            "Epoch 7/30\n",
            "112/670 [====>.........................] - ETA: 12s - loss: 0.0779 - dice_coef: 0.8661"
          ],
          "name": "stdout"
        },
        {
          "output_type": "stream",
          "text": [
            "670/670 [==============================] - 16s 23ms/step - loss: 0.0697 - dice_coef: 0.8668\n",
            "Epoch 8/30\n",
            "670/670 [==============================] - 16s 23ms/step - loss: 0.0663 - dice_coef: 0.8691\n",
            "Epoch 9/30\n",
            "670/670 [==============================] - 16s 23ms/step - loss: 0.0667 - dice_coef: 0.8728\n",
            "Epoch 10/30\n",
            "670/670 [==============================] - 16s 23ms/step - loss: 0.0668 - dice_coef: 0.8715\n",
            "Epoch 11/30\n",
            "670/670 [==============================] - 16s 23ms/step - loss: 0.0675 - dice_coef: 0.8694\n",
            "Epoch 12/30\n",
            "670/670 [==============================] - 16s 23ms/step - loss: 0.0683 - dice_coef: 0.8692\n",
            "Epoch 13/30\n",
            "256/670 [==========>...................] - ETA: 9s - loss: 0.0679 - dice_coef: 0.8639 "
          ],
          "name": "stdout"
        },
        {
          "output_type": "stream",
          "text": [
            "670/670 [==============================] - 16s 23ms/step - loss: 0.0668 - dice_coef: 0.8696\n",
            "Epoch 14/30\n",
            "670/670 [==============================] - 16s 23ms/step - loss: 0.0668 - dice_coef: 0.8702\n",
            "Epoch 15/30\n",
            "670/670 [==============================] - 16s 23ms/step - loss: 0.0660 - dice_coef: 0.8711\n",
            "Epoch 16/30\n",
            "670/670 [==============================] - 16s 23ms/step - loss: 0.0640 - dice_coef: 0.8761\n",
            "Epoch 17/30\n",
            "670/670 [==============================] - 16s 23ms/step - loss: 0.0637 - dice_coef: 0.8742\n",
            "Epoch 18/30\n",
            "670/670 [==============================] - 16s 23ms/step - loss: 0.0633 - dice_coef: 0.8761\n",
            "Epoch 19/30\n",
            "256/670 [==========>...................] - ETA: 9s - loss: 0.0567 - dice_coef: 0.8796"
          ],
          "name": "stdout"
        },
        {
          "output_type": "stream",
          "text": [
            "670/670 [==============================] - 16s 23ms/step - loss: 0.0634 - dice_coef: 0.8753\n",
            "Epoch 20/30\n",
            "670/670 [==============================] - 16s 23ms/step - loss: 0.0638 - dice_coef: 0.8758\n",
            "Epoch 21/30\n",
            "670/670 [==============================] - 16s 23ms/step - loss: 0.0641 - dice_coef: 0.8749\n",
            "Epoch 22/30\n",
            "670/670 [==============================] - 16s 23ms/step - loss: 0.0651 - dice_coef: 0.8730\n",
            "Epoch 23/30\n",
            "670/670 [==============================] - 16s 23ms/step - loss: 0.0627 - dice_coef: 0.8767\n",
            "Epoch 24/30\n",
            "670/670 [==============================] - 16s 23ms/step - loss: 0.0638 - dice_coef: 0.8768\n",
            "Epoch 25/30\n",
            "256/670 [==========>...................] - ETA: 9s - loss: 0.0665 - dice_coef: 0.8796"
          ],
          "name": "stdout"
        },
        {
          "output_type": "stream",
          "text": [
            "670/670 [==============================] - 16s 23ms/step - loss: 0.0645 - dice_coef: 0.8737\n",
            "Epoch 26/30\n",
            "670/670 [==============================] - 16s 23ms/step - loss: 0.0652 - dice_coef: 0.8714\n",
            "Epoch 27/30\n",
            "670/670 [==============================] - 16s 23ms/step - loss: 0.0626 - dice_coef: 0.8770\n",
            "Epoch 28/30\n",
            "670/670 [==============================] - 16s 23ms/step - loss: 0.0617 - dice_coef: 0.8779\n",
            "Epoch 29/30\n",
            "670/670 [==============================] - 16s 23ms/step - loss: 0.0618 - dice_coef: 0.8779\n",
            "Epoch 30/30\n",
            "670/670 [==============================] - 16s 23ms/step - loss: 0.0609 - dice_coef: 0.8802\n"
          ],
          "name": "stdout"
        },
        {
          "output_type": "execute_result",
          "data": {
            "text/plain": [
              "<keras.callbacks.History at 0x7f94566765f8>"
            ]
          },
          "metadata": {
            "tags": []
          },
          "execution_count": 29
        }
      ]
    },
    {
      "metadata": {
        "id": "_y6pKPS7I0Sp",
        "colab_type": "code",
        "colab": {
          "autoexec": {
            "startup": false,
            "wait_interval": 0
          }
        }
      },
      "cell_type": "code",
      "source": [
        ""
      ],
      "execution_count": 0,
      "outputs": []
    }
  ]
}